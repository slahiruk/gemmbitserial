{
 "cells": [
  {
   "cell_type": "code",
   "execution_count": 1,
   "metadata": {},
   "outputs": [
    {
     "name": "stderr",
     "output_type": "stream",
     "text": [
      "In file included from input_line_3:2:\n",
      "\u001b[1m./gemmbitserial.hpp:478:2: \u001b[0m\u001b[0;1;35mwarning: \u001b[0m\u001b[1m\"Compiling using generic popcount\" [-W#warnings]\u001b[0m\n",
      "#warning \"Compiling using generic popcount\"\n",
      "\u001b[0;1;32m ^\n",
      "\u001b[0m"
     ]
    },
    {
     "data": {
      "text/plain": []
     },
     "execution_count": 1,
     "metadata": {},
     "output_type": "execute_result"
    }
   ],
   "source": [
    "#pragma cling load(\"gemmbitserial.so\")\n",
    "#include \"gemmbitserial.hpp\"\n",
    "#pragma cling load(\"test/testhelpers.so\")\n",
    "#include \"test/testhelpers.hpp\"\n",
    "#include <iostream>"
   ]
  },
  {
   "cell_type": "code",
   "execution_count": 2,
   "metadata": {},
   "outputs": [
    {
     "data": {
      "text/plain": []
     },
     "execution_count": 2,
     "metadata": {},
     "output_type": "execute_result"
    }
   ],
   "source": [
    "using namespace gemmbitserial;\n",
    "gemmbitserial::BitSerialMatrix bsm;\n",
    "size_t nrows_lhs = 4;\n",
    "size_t nrows_rhs = 4;\n",
    "size_t ncols = 2;\n",
    "size_t nbits_lhs = 1;\n",
    "size_t nbits_rhs = 1;\n",
    "bool sgn_lhs = false;\n",
    "bool sgn_rhs = false;\n",
    "uint8_t * lhs = new uint8_t[nrows_lhs * ncols];                                                                                     \n",
    "uint8_t * rhs = new uint8_t[nrows_rhs * ncols];  \n",
    "generateRandomVector(nbits_lhs, nrows_lhs*ncols, lhs);                                                                              \n",
    "generateRandomVector(nbits_rhs, nrows_rhs*ncols, rhs); \n",
    "GEMMContext ctx = gemmbitserial::allocGEMMContext(nrows_lhs,ncols,\n",
    "nrows_rhs,nbits_lhs,nbits_rhs,\n",
    "sgn_lhs,sgn_rhs);\n"
   ]
  },
  {
   "cell_type": "code",
   "execution_count": 2,
   "metadata": {},
   "outputs": [
    {
     "data": {
      "text/plain": []
     },
     "execution_count": 2,
     "metadata": {},
     "output_type": "execute_result"
    }
   ],
   "source": [
    "using namespace gemmbitserial;\n",
    "gemmbitserial::BitSerialMatrix bsm;\n",
    "size_t nrows_lhs = 2;\n",
    "size_t nrows_rhs = 2;\n",
    "size_t ncols = 2;\n",
    "size_t nbits_lhs = 1;\n",
    "size_t nbits_rhs = 1;\n",
    "bool sgn_lhs = false;\n",
    "bool sgn_rhs = false;\n",
    "uint8_t * lhs = new uint8_t[nrows_lhs * ncols];                                                                                     \n",
    "uint8_t * rhs = new uint8_t[nrows_rhs * ncols];  \n",
    "generateRandomVector(nbits_lhs, nrows_lhs*ncols, lhs);                                                                              \n",
    "generateRandomVector(nbits_rhs, nrows_rhs*ncols, rhs); \n",
    "GEMMContext ctx = allocGEMMContext_base(nrows_lhs,ncols,\n",
    "nrows_rhs,nbits_lhs,nbits_rhs,\n",
    "sgn_lhs,sgn_rhs,\n",
    "2,1,2,64);\n"
   ]
  },
  {
   "cell_type": "code",
   "execution_count": 3,
   "metadata": {},
   "outputs": [
    {
     "data": {
      "text/plain": [
       "(gemmbitserial::GEMMContext &) @0x7f57524b5070\n"
      ]
     },
     "execution_count": 3,
     "metadata": {},
     "output_type": "execute_result"
    }
   ],
   "source": [
    "nrows_lhs = 2;\n",
    "nrows_rhs = 2;\n",
    "ncols = 2;\n",
    "nbits_lhs = 1;\n",
    "nbits_rhs = 1;\n",
    "sgn_lhs = false;\n",
    "sgn_rhs = false;\n",
    "lhs = new uint8_t[nrows_lhs * ncols];                                                                                     \n",
    "rhs = new uint8_t[nrows_rhs * ncols];  \n",
    "generateRandomVector(nbits_lhs, nrows_lhs*ncols, lhs);                                                                              \n",
    "generateRandomVector(nbits_rhs, nrows_rhs*ncols, rhs); \n",
    "ctx = allocGEMMContext_base(nrows_lhs,ncols,\n",
    "nrows_rhs,nbits_lhs,nbits_rhs,\n",
    "sgn_lhs,sgn_rhs,\n",
    "2,1,2,64);"
   ]
  },
  {
   "cell_type": "code",
   "execution_count": 3,
   "metadata": {},
   "outputs": [
    {
     "data": {
      "text/plain": [
       "(void) @0x7f0999ff9b58\n"
      ]
     },
     "execution_count": 3,
     "metadata": {},
     "output_type": "execute_result"
    }
   ],
   "source": [
    "ctx.lhs.importRegular(lhs);\n",
    "ctx.rhs.importRegular(rhs);"
   ]
  },
  {
   "cell_type": "code",
   "execution_count": 6,
   "metadata": {},
   "outputs": [
    {
     "data": {
      "text/plain": [
       "(void) @0x7f0999ff9b58\n"
      ]
     },
     "execution_count": 6,
     "metadata": {},
     "output_type": "execute_result"
    }
   ],
   "source": [
    "gemmbitserial::gemmBitSerial(ctx);"
   ]
  },
  {
   "cell_type": "code",
   "execution_count": 7,
   "metadata": {},
   "outputs": [
    {
     "name": "stdout",
     "output_type": "stream",
     "text": [
      "0 0 0 0 \n",
      "0 0 0 0 \n",
      "1 0 0 1 \n",
      "2 1 1 1 \n",
      "\n",
      "0000"
     ]
    },
    {
     "data": {
      "text/plain": []
     },
     "execution_count": 7,
     "metadata": {},
     "output_type": "execute_result"
    }
   ],
   "source": [
    "printmatrix(ctx.res,nrows_rhs,nrows_lhs);\n",
    "#include <iostream>\n",
    "#include <cstdio>\n",
    "\n",
    "lhs[0]=1;\n",
    "lhs[1]=1;\n",
    "lhs[2]=3;\n",
    "lhs[4]=1;\n",
    "\n",
    "rhs[0]=1;\n",
    "rhs[1]=3;\n",
    "rhs[2]=1;\n",
    "rhs[4]=1;\n",
    "\n",
    "gemmbitserial::gemmBitSerial(ctx);\n",
    "\n",
    "for(int i=0;i<=1;i++)\n",
    "    for(int j=0;j<=1;j++){      \n",
    "printf(\"%d\",ctx.res[i*j]);\n",
    "    }"
   ]
  },
  {
   "cell_type": "code",
   "execution_count": 49,
   "metadata": {},
   "outputs": [
    {
     "name": "stdout",
     "output_type": "stream",
     "text": [
      "0 1 \n",
      "0 1 \n",
      "\n",
      "1 1 \n",
      "0 1 \n",
      "\n"
     ]
    },
    {
     "data": {
      "text/plain": [
       "(void) @0x7f77c8f6ab58\n"
      ]
     },
     "execution_count": 49,
     "metadata": {},
     "output_type": "execute_result"
    }
   ],
   "source": [
    "printmatrix(rhs,nrows_rhs,ncols);printmatrix(lhs,nrows_lhs,ncols);"
   ]
  },
  {
   "cell_type": "code",
   "execution_count": 4,
   "metadata": {},
   "outputs": [
    {
     "name": "stdout",
     "output_type": "stream",
     "text": [
      "1\n",
      "1\n",
      "1\n",
      "2\n",
      "1\n",
      "2\n",
      "1\n",
      "2\n",
      "3 5 \n",
      "3 5 \n",
      "\n"
     ]
    },
    {
     "data": {
      "text/plain": [
       "(void) @0x7f5741ff9b58\n"
      ]
     },
     "execution_count": 4,
     "metadata": {},
     "output_type": "execute_result"
    }
   ],
   "source": [
    "/*\n",
    "\n",
    "alright the part of how to generate the matrix has been sorted\n",
    "\n",
    "*/\n",
    "\n",
    "#include <iostream>\n",
    "#include <cstdio>\n",
    "\n",
    "lhs[0]=1;\n",
    "lhs[1]=1;\n",
    "lhs[2]=1;\n",
    "lhs[3]=2;\n",
    "\n",
    "rhs[0]=1;\n",
    "rhs[1]=2;\n",
    "rhs[2]=1;\n",
    "rhs[3]=2;\n",
    "\n",
    "\n",
    "for(int i=0;i<=3;i++) \n",
    "printf(\"%d\\n\",lhs[i]);\n",
    "\n",
    "for(int i=0;i<=3;i++) \n",
    "printf(\"%d\\n\",rhs[i]);\n",
    "    \n",
    "ctx = allocGEMMContext_base(2,2,\n",
    "2,3,3,\n",
    "0,0,\n",
    "2,1,2,64);\n",
    "\n",
    "ctx.lhs.importRegular(lhs);\n",
    "ctx.rhs.importRegular(rhs);\n",
    "\n",
    "gemmbitserial::gemmBitSerial(ctx);\n",
    "\n",
    "printmatrix(ctx.res,nrows_rhs,nrows_lhs);"
   ]
  },
  {
   "cell_type": "code",
   "execution_count": 5,
   "metadata": {},
   "outputs": [
    {
     "name": "stdout",
     "output_type": "stream",
     "text": [
      "1 2 \n",
      "1 2 \n",
      "\n",
      "1 1 \n",
      "1 2 \n",
      "\n"
     ]
    },
    {
     "data": {
      "text/plain": [
       "(void) @0x7f5741ff9b58\n"
      ]
     },
     "execution_count": 5,
     "metadata": {},
     "output_type": "execute_result"
    }
   ],
   "source": [
    "printmatrix(rhs,nrows_rhs,nrows_lhs);printmatrix(lhs,nrows_rhs,nrows_lhs);"
   ]
  },
  {
   "cell_type": "code",
   "execution_count": 6,
   "metadata": {},
   "outputs": [
    {
     "name": "stdout",
     "output_type": "stream",
     "text": [
      "Bit 0:\n",
      "1 \n",
      "1 \n",
      "\n",
      "Bit 1:\n",
      "2 \n",
      "2 \n",
      "\n",
      "Bit 2:\n",
      "0 \n",
      "0 \n",
      "\n"
     ]
    },
    {
     "data": {
      "text/plain": [
       "(void) nullptr\n"
      ]
     },
     "execution_count": 6,
     "metadata": {},
     "output_type": "execute_result"
    }
   ],
   "source": [
    "ctx.rhs.printHex();"
   ]
  },
  {
   "cell_type": "code",
   "execution_count": 3,
   "metadata": {},
   "outputs": [
    {
     "name": "stdout",
     "output_type": "stream",
     "text": [
      "Size is8"
     ]
    },
    {
     "data": {
      "text/plain": [
       "(std::basic_ostream<char, std::char_traits<char> >::__ostream_type &) @0x7f8a46e80e60\n"
      ]
     },
     "execution_count": 3,
     "metadata": {},
     "output_type": "execute_result"
    }
   ],
   "source": [
    "std::cout<<\"Size is\" << sizeof(uint64_t);"
   ]
  },
  {
   "cell_type": "code",
   "execution_count": null,
   "metadata": {},
   "outputs": [],
   "source": [
    "int & returner(){\n",
    "    \n",
    "}"
   ]
  },
  {
   "cell_type": "code",
   "execution_count": 12,
   "metadata": {},
   "outputs": [
    {
     "name": "stdout",
     "output_type": "stream",
     "text": [
      "63"
     ]
    },
    {
     "data": {
      "text/plain": [
       "(std::basic_ostream<char, std::char_traits<char> >::__ostream_type &) @0x7f8a46e80e60\n"
      ]
     },
     "execution_count": 12,
     "metadata": {},
     "output_type": "execute_result"
    }
   ],
   "source": [
    " bb = (1<<6)-1;\n",
    "std::cout <<(127&bb);"
   ]
  },
  {
   "cell_type": "code",
   "execution_count": 14,
   "metadata": {},
   "outputs": [
    {
     "data": {
      "text/plain": []
     },
     "execution_count": 14,
     "metadata": {},
     "output_type": "execute_result"
    }
   ],
   "source": [
    "uint64_t kk;"
   ]
  },
  {
   "cell_type": "code",
   "execution_count": 16,
   "metadata": {},
   "outputs": [
    {
     "name": "stdout",
     "output_type": "stream",
     "text": [
      "2"
     ]
    },
    {
     "data": {
      "text/plain": [
       "(std::basic_ostream<char, std::char_traits<char> >::__ostream_type &) @0x7f8a46e80e60\n"
      ]
     },
     "execution_count": 16,
     "metadata": {},
     "output_type": "execute_result"
    }
   ],
   "source": [
    "kk = 128 >>6;\n",
    "std::cout <<kk;"
   ]
  }
 ],
 "metadata": {
  "kernelspec": {
   "display_name": "C++11",
   "language": "C++",
   "name": "cling-cpp11"
  },
  "language_info": {
   "codemirror_mode": "c++",
   "file_extension": ".c++",
   "mimetype": "text/x-c++src",
   "name": "c++"
  }
 },
 "nbformat": 4,
 "nbformat_minor": 2
}
